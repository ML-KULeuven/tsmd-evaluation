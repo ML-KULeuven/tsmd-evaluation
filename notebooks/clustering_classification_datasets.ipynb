{
 "cells": [
  {
   "cell_type": "markdown",
   "id": "69ba2184-d159-4a1f-95af-5440bcf310fb",
   "metadata": {},
   "source": [
    "# Finding classification datasets fit for TSMD using Clustering\n",
    "We aim to find classification datasets that can be used to create TSMD\n",
    "benchmarks. A classification dataset can be used fit to creating TSMD time\n",
    "series if the instances belonging to different classes are distinguishable in an\n",
    "unsupervised manner. We assess this by applying a centroid-based clustering\n",
    "algorithm ($k$-medoids) and observing whether a good clustering can be achieved.\n",
    "We use TimeSeriesClassification (TSC) datasets with at least 5 classes ($c ≥ 5$).\n",
    "The datasets can be categorized based on whether they are fixed-length or\n",
    "variable-length and whether they are univariate or multivariate.\n",
    "For the first category (fixed-length, univariate), We can use a recent clustering benchmark paper. We cluster the datasets from the remaining three categories ourselves."
   ]
  },
  {
   "cell_type": "markdown",
   "id": "4ea60dc0-caf9-454a-bc45-75aba9f9fc18",
   "metadata": {},
   "source": [
    "All datasets are clustered with $k$-medoids because it can be applied for both Euclidean\n",
    "distance (ED) and Dynamic Time Warping (DTW) distance (in contrast to $k$-means). All instances are $z$-normalized beforehand and $k = c$. To apply $k$-medoids with Euclidean distance on a variable-length dataset, I resample instances from the dataset such that their lengths are equal to the average length in the dataset. DTW is directly applicable. To apply $k$-medoids with DTW on a multivariate dataset, I use dependent DTW."
   ]
  },
  {
   "cell_type": "code",
   "execution_count": 1,
   "id": "02544d1d-ec86-4793-b9c8-9104b34a0972",
   "metadata": {},
   "outputs": [],
   "source": [
    "import os\n",
    "PATH_TO_RESULTS = os.path.join(\".\", \"cluster_results\")"
   ]
  },
  {
   "cell_type": "code",
   "execution_count": 2,
   "id": "a82bf4f0-7fc1-4b13-9051-150a71a8077f",
   "metadata": {},
   "outputs": [
    {
     "name": "stderr",
     "output_type": "stream",
     "text": [
      "/cw/dtaijupiter/NoCsBack/dtai/daanv/miniconda3/envs/tsmdeval/lib/python3.9/site-packages/tslearn/bases/bases.py:15: UserWarning: h5py not installed, hdf5 features will not be supported.\n",
      "Install h5py to use hdf5 features: http://docs.h5py.org/\n",
      "  warn(h5py_msg)\n"
     ]
    }
   ],
   "source": [
    "import numpy as np\n",
    "\n",
    "import kmedoids\n",
    "from sklearn.metrics import adjusted_rand_score\n",
    "import dtaidistance.dtw_ndim as dtw\n",
    "from tslearn.preprocessing import TimeSeriesResampler\n",
    "from aeon.datasets import load_classification\n",
    "\n",
    "\n",
    "import matplotlib.pyplot as plt\n",
    "import pickle\n",
    "import pandas as pd"
   ]
  },
  {
   "cell_type": "code",
   "execution_count": 7,
   "id": "3539c94d-c9c7-4fac-b4e1-2ee236fc24dd",
   "metadata": {},
   "outputs": [],
   "source": [
    "def ed(ts1, ts2):\n",
    "    return dtw.distance(ts1, ts2, window=1, use_c=True)\n",
    "\n",
    "def dtwdistance(ts1, ts2, **dtw_params):\n",
    "    return dtw.distance(ts1, ts2, use_c=True, **dtw_params)\n",
    "\n",
    "def distance_matrix(time_series, distance_fun):\n",
    "    n = len(time_series)\n",
    "    distance_matrix = np.full((n, n), np.inf)\n",
    "    for i in range(n):\n",
    "        for j in range(i, n):\n",
    "            distance = distance_fun(time_series[i], time_series[j])\n",
    "            distance_matrix[i, j] = distance_matrix[j, i] = distance\n",
    "    return distance_matrix"
   ]
  },
  {
   "cell_type": "code",
   "execution_count": 8,
   "id": "d94a5f90-8060-4688-9953-96ea6cddfcb2",
   "metadata": {},
   "outputs": [],
   "source": [
    "def resample_ts(ts, length):\n",
    "    resampled = TimeSeriesResampler(sz=length).transform(ts.T).T\n",
    "    return resampled[0]\n",
    "\n",
    "def znormalize(ts):\n",
    "    ts = (ts - np.mean(ts, axis=None)) / np.std(ts, axis=None)\n",
    "    return ts"
   ]
  },
  {
   "cell_type": "code",
   "execution_count": 9,
   "id": "8c1114f7-c81a-4615-8526-1753dc498742",
   "metadata": {},
   "outputs": [],
   "source": [
    "# Datasets with more than 5 classes\n",
    "FIX_LENGTH_MULTIVARIATE = [\"ArticularyWordRecognition\", \"Cricket\", \"DuckDuckGeese\", \"EigenWorms\", \"Ering\", \"Handwriting\", \"Libras\", \"LSST\", \"NATOPS\", \"PenDigits\", \"PEMS-SF\", \"PhonemeSpectra\", \"UWaveGestureLibrary\"]\n",
    "VAR_LENGTH_UNIVARIATE   = [\"AllGestureWiimoteX\", \"AllGestureWiimoteY\", \"AllGestureWiimoteZ\", \"GestureMidAirD1\", \"GestureMidAirD2\", \"GestureMidAirD3\", \"GesturePebbleZ1\", \"GesturePebbleZ2\", \"PickupGestureWiimoteZ\", \"PLAID\", \"ShakeGestureWiimoteZ\"]\n",
    "VAR_LENGTH_MULTIVARIATE = ['CharacterTrajectories', 'InsectWingbeat', 'JapaneseVowels', 'SpokenArabicDigits',]\n",
    "DATASETS = FIX_LENGTH_MULTIVARIATE + VAR_LENGTH_UNIVARIATE + VAR_LENGTH_MULTIVARIATE"
   ]
  },
  {
   "cell_type": "code",
   "execution_count": 50,
   "id": "b412259a-5595-45fd-9875-70cfcd4b979c",
   "metadata": {
    "scrolled": true,
    "tags": []
   },
   "outputs": [
    {
     "name": "stdout",
     "output_type": "stream",
     "text": [
      "ArticularyWordRecognition\n",
      "AllGestureWiimoteX\n",
      "JapaneseVowels\n"
     ]
    }
   ],
   "source": [
    "# TODO: remove this\n",
    "import sys\n",
    "sys.path.insert(0, \"..\")\n",
    "import benchmark_generation\n",
    "\n",
    "df_results = pd.DataFrame(columns=['dataset', 'distance_measure', 'ari'])\n",
    "\n",
    "# for ds_name in DATASETS:\n",
    "for ds_name in [\"ArticularyWordRecognition\", \"AllGestureWiimoteX\", \"JapaneseVowels\"]:\n",
    "    print(ds_name)\n",
    "    # Load the dataset\n",
    "    X_train, y_train = load_classification(name=ds_name, split='train', load_equal_length=False)\n",
    "    X_test, y_test = load_classification(name=ds_name, split='test', load_equal_length=False)\n",
    "\n",
    "    df_train = benchmark_generation.convert_X_y_to_df(X_train, y_train)\n",
    "    df_test = benchmark_generation.convert_X_y_to_df(X_test, y_test)\n",
    "\n",
    "    # Combine, z-normalize, and resplit\n",
    "    df = pd.concat((df_train, df_test)).reset_index(drop=True)\n",
    "    df['ts'] = df['ts'].apply(znormalize)\n",
    "    \n",
    "    # Resample the dataset\n",
    "    l_mean = int(df['length'].mean())\n",
    "    df['resampled'] = df['ts'].apply(lambda instance: resample_ts(instance, l_mean))\n",
    "    \n",
    "    # Number of classes\n",
    "    n_classes = len(np.unique(df['label']))\n",
    "\n",
    "    # Cluster using DTW\n",
    "    D = distance_matrix(df['ts'].tolist(), dtwdistance)\n",
    "    np.random.seed(0)\n",
    "    cluster_labels = kmedoids.fastpam1(D, n_classes).labels\n",
    "    ari_dtw = adjusted_rand_score(df['label'].to_numpy(), cluster_labels)\n",
    "    new_row = {'dataset': ds_name, 'distance_measure': \"dtw\", 'ari': ari_dtw}\n",
    "    df_results = pd.concat((df_results, pd.DataFrame([new_row])), ignore_index=True)\n",
    "\n",
    "    # Cluster using ED\n",
    "    D = distance_matrix(df['ts'].tolist(), ed)\n",
    "    np.random.seed(0)\n",
    "    cluster_labels = kmedoids.fastpam1(D, n_classes).labels\n",
    "    ari_ed = adjusted_rand_score(df['label'].to_numpy(), cluster_labels)\n",
    "    new_row = {'dataset': ds_name, 'distance_measure': \"ed\", 'ari': ari_ed}\n",
    "    df_results = pd.concat((df_results, pd.DataFrame([new_row])), ignore_index=True)\n",
    "\n",
    "    # Average\n",
    "    new_row = {'dataset': ds_name, 'distance_measure': \"avg\", 'ari': (ari_dtw + ari_ed) / 2.0}\n",
    "    df_results = pd.concat((df_results, pd.DataFrame([new_row])), ignore_index=True)"
   ]
  },
  {
   "cell_type": "code",
   "execution_count": 54,
   "id": "1cfbea5f",
   "metadata": {},
   "outputs": [
    {
     "data": {
      "image/png": "[encoded data removed]",
      "text/plain": [
       "<Figure size 1000x200 with 1 Axes>"
      ]
     },
     "metadata": {},
     "output_type": "display_data"
    }
   ],
   "source": [
    "import matplotlib.pyplot as plt\n",
    "FONT_SIZE = 12\n",
    "\n",
    "plt.rcParams.update({\n",
    "    \"text.usetex\": True,\n",
    "    'text.latex.preamble': r\"\\usepackage{amsmath}\"\n",
    "})\n",
    "import seaborn as sns\n",
    "# add 'average' as value to distance measure \n",
    "\n",
    "fig, ax = plt.subplots(figsize=(10, 2))\n",
    "\n",
    "tab_colors = sns.color_palette(\"tab10\")\n",
    "def make_rgb_transparent(rgb, alpha, rgb_background=(1,1,1)):\n",
    "    return [alpha * c1 + (1 - alpha) * c2 for (c1, c2) in zip(rgb, rgb_background)]\n",
    "\n",
    "sns.barplot(ax=ax, x='dataset', y='ari', hue='distance_measure', data=df_results, legend=True, order=df_results[df_results['distance_measure'] == 'avg'].sort_values(by=\"ari\")[\"dataset\"].to_list()[::-1], palette=[make_rgb_transparent(tab_colors[0], 0.4), make_rgb_transparent(tab_colors[1], 0.4), tab_colors[2]])\n",
    "ax.spines[['top', 'right']].set_visible(False)\n",
    "ax.set_ylim([0, 1])\n",
    "\n",
    "l = ax.axhline(0.5, c='grey', zorder=-1, ls='--', label='Selection threshold', linewidth=1.5)\n",
    "ax.legend(loc='lower left', bbox_to_anchor=(0.16, 0.9), ncol=4, fontsize=FONT_SIZE)\n",
    "ax.set_ylabel(\"ARI\", rotation=0, fontsize=FONT_SIZE, ha='right')\n",
    "ax.set_xlabel(None)\n",
    "\n",
    "plt.xticks(rotation=90, fontsize=FONT_SIZE)\n",
    "plt.savefig(\"cluster_results.pdf\", bbox_inches='tight')\n",
    "plt.show()"
   ]
  }
 ],
 "metadata": {
  "kernelspec": {
   "display_name": "Python 3 (ipykernel)",
   "language": "python",
   "name": "python3"
  },
  "language_info": {
   "codemirror_mode": {
    "name": "ipython",
    "version": 3
   },
   "file_extension": ".py",
   "mimetype": "text/x-python",
   "name": "python",
   "nbconvert_exporter": "python",
   "pygments_lexer": "ipython3",
   "version": "3.9.12"
  }
 },
 "nbformat": 4,
 "nbformat_minor": 5
}
